{
 "cells": [
  {
   "cell_type": "markdown",
   "metadata": {
    "id": "nXRXV83s7urz"
   },
   "source": [
    "# 딥러닝모델과추론 과제 4\n",
    "\n",
    "- 딥러닝모델과 추론\n",
    "- 데이터과학융합스쿨 20173237 심창우"
   ]
  },
  {
   "cell_type": "code",
   "execution_count": 1,
   "metadata": {
    "id": "8_O08xD57ur0"
   },
   "outputs": [],
   "source": [
    "import numpy as np\n",
    "from keras.models import Sequential\n",
    "from keras.layers import Dense\n",
    "import matplotlib.pyplot as plt\n",
    "import pandas as pd\n",
    "from sklearn import preprocessing"
   ]
  },
  {
   "cell_type": "code",
   "execution_count": 2,
   "metadata": {
    "id": "UESEKa407ur0"
   },
   "outputs": [],
   "source": [
    "# 데이터 불러오기\n",
    "dat = pd.read_csv(\"test.csv\")\n",
    "\n",
    "# 키 - 몸무게 데이터 2차원 배열로 변환\n",
    "height = np.array(dat[\"Height\"])\n",
    "height = height.reshape(len(height), 1)\n",
    "weight = np.array(dat[\"Weight\"])\n",
    "weight = weight.reshape(len(weight), 1)\n",
    "\n",
    "# 수축기 - 이완기 데이터 2차원 배열로 변환\n",
    "SBP = np.array(dat[\"SBP\"])\n",
    "SBP = SBP.reshape(len(SBP), 1)\n",
    "DBP = np.array(dat[\"DBP\"])\n",
    "DBP = DBP.reshape(len(DBP), 1)\n",
    "\n",
    "# 혈당수치 - 당뇨여부 데이터 2차원 배열로 변환\n",
    "\n",
    "# String을 지원하지 않기 때문에 당뇨병 유무(Y, N)를 숫자로 변환\n",
    "def transform_YesNo(dm):\n",
    "  if dm == 'Y':\n",
    "    return 1\n",
    "  else:\n",
    "    return 0\n",
    "\n",
    "Sugar = np.array(dat[\"Sugar\"])\n",
    "Sugar = Sugar.reshape(len(Sugar), 1)\n",
    "\n",
    "# 당뇨병 유무(Y, N) 변환(1, 0 함수 호출 후 array 생성\n",
    "DM = np.array([transform_YesNo(i) for i in dat[\"DM\"]])\n",
    "DM = DM.reshape(len(DM), 1)\n",
    "\n",
    "# 키 - 몸무게 정규화\n",
    "mm_scaler_weight = preprocessing.MinMaxScaler()\n",
    "height = mm_scaler_weight.fit_transform(height)\n",
    "weight = mm_scaler_weight.transform(weight)\n",
    "\n",
    "# 수축기 - 이완기 정규화\n",
    "mm_scaler_SBP = preprocessing.MinMaxScaler()\n",
    "SBP = mm_scaler_SBP.fit_transform(SBP)\n",
    "DBP = mm_scaler_SBP.transform(DBP)\n",
    "\n",
    "# 혈당수치 - 당뇨여부 정규화. 당뇨병 유무는 1, 0값이기 때문에 하지 않음\n",
    "mm_scaler_Sugar = preprocessing.MinMaxScaler()\n",
    "Sugar = mm_scaler_Sugar.fit_transform(Sugar)"
   ]
  },
  {
   "cell_type": "code",
   "execution_count": 3,
   "metadata": {
    "colab": {
     "base_uri": "https://localhost:8080/"
    },
    "id": "CHhqi0f47ur0",
    "outputId": "dec0b363-0228-45fe-dd7f-d9acbbfc71f2"
   },
   "outputs": [
    {
     "name": "stdout",
     "output_type": "stream",
     "text": [
      "Model: \"sequential\"\n",
      "_________________________________________________________________\n",
      "Layer (type)                 Output Shape              Param #   \n",
      "=================================================================\n",
      "dense (Dense)                (None, 1)                 2         \n",
      "=================================================================\n",
      "Total params: 2\n",
      "Trainable params: 2\n",
      "Non-trainable params: 0\n",
      "_________________________________________________________________\n",
      "Model: \"sequential_1\"\n",
      "_________________________________________________________________\n",
      "Layer (type)                 Output Shape              Param #   \n",
      "=================================================================\n",
      "dense_1 (Dense)              (None, 1)                 2         \n",
      "=================================================================\n",
      "Total params: 2\n",
      "Trainable params: 2\n",
      "Non-trainable params: 0\n",
      "_________________________________________________________________\n",
      "Model: \"sequential_2\"\n",
      "_________________________________________________________________\n",
      "Layer (type)                 Output Shape              Param #   \n",
      "=================================================================\n",
      "dense_2 (Dense)              (None, 1)                 2         \n",
      "_________________________________________________________________\n",
      "dense_3 (Dense)              (None, 1)                 2         \n",
      "=================================================================\n",
      "Total params: 4\n",
      "Trainable params: 4\n",
      "Non-trainable params: 0\n",
      "_________________________________________________________________\n"
     ]
    }
   ],
   "source": [
    "# 키 - 몸무게 모델\n",
    "model_height = Sequential()\n",
    "model_height.add(Dense(1, input_dim=1))\n",
    "\n",
    "model_height.summary()\n",
    "\n",
    "# 수축기 - 이완기 모델\n",
    "model_SBP = Sequential()\n",
    "model_SBP.add(Dense(1, input_dim=1))\n",
    "\n",
    "model_SBP.summary()\n",
    "\n",
    "# 혈당수치 - 당뇨여부 모델\n",
    "model_Sugar = Sequential()\n",
    "\n",
    "# relu -> 0 또는 1이기 때문에 activation sigmoid 사용\n",
    "model_Sugar.add(Dense(1, input_dim=1, activation='relu'))\n",
    "model_Sugar.add(Dense(1, activation='sigmoid'))\n",
    "\n",
    "model_Sugar.summary()"
   ]
  },
  {
   "cell_type": "markdown",
   "metadata": {
    "id": "jlNu9t_C7ur1"
   },
   "source": [
    "- lost(cost) function = mse\n",
    "- optimizer = Stochastic Gradient Descent"
   ]
  },
  {
   "cell_type": "code",
   "execution_count": 4,
   "metadata": {
    "id": "GbsDTyYG7ur1"
   },
   "outputs": [],
   "source": [
    "# 키 - 몸무게 모델 컴파일\n",
    "model_height.compile(loss='mse', optimizer='sgd') \n",
    "\n",
    "# 수축기 - 이완기 모델 컴파일\n",
    "model_SBP.compile(loss='mse', optimizer='sgd') \n",
    "\n",
    "# 혈당수치 - 당뇨여부 모델 컴파일. 결과값이 0 또는 1 즉 이진분류이기 때문에 binary_crossentropy 사용함\n",
    "model_Sugar.compile(loss='binary_crossentropy', optimizer='sgd') "
   ]
  },
  {
   "cell_type": "code",
   "execution_count": 5,
   "metadata": {
    "id": "dVMHU7M77ur1"
   },
   "outputs": [],
   "source": [
    "# 키 - 몸무게 모델 적합 (model fitting)\n",
    "fit = model_height.fit(height, weight, epochs=5000, batch_size=20, verbose=False)\n",
    "\n",
    "# 수축기 - 이완기 모델 적합 (model fitting)\n",
    "fit = model_SBP.fit(SBP, DBP, epochs=5000, batch_size=20, verbose=False)\n",
    "\n",
    "# 혈당수치 - 당뇨여부 모델 적합 (model fitting)\n",
    "fit = model_Sugar.fit(Sugar, DM, epochs=15000, batch_size=20, verbose=False)"
   ]
  },
  {
   "cell_type": "code",
   "execution_count": 8,
   "metadata": {
    "colab": {
     "base_uri": "https://localhost:8080/"
    },
    "id": "i0EncTWa7ur1",
    "outputId": "6fdf0ba8-4b8e-49bd-bb6d-46dec43ee0c8"
   },
   "outputs": [
    {
     "name": "stdout",
     "output_type": "stream",
     "text": [
      "1번) 키가 170 cm 일 때 예측 몸무게는 약 69 kg\n",
      "2번) 수축기가 140 mmHG 일 때 예측 이완기 혈압은 약 93 mmHG\n",
      "3번) 혈당수치가 90 일 때 당뇨에 걸릴 확률은 0 % 이다\n"
     ]
    }
   ],
   "source": [
    "# 과제 4-1, 4-2 , 4-3 예측값\n",
    "\n",
    "# 키 입력\n",
    "input_height = 170\n",
    "\n",
    "input_mm_height = mm_scaler_weight.transform(np.array([input_height]).reshape(-1, 1))\n",
    "\n",
    "weight_predict = model_height.predict(input_mm_height)\n",
    "weight_predict = mm_scaler_weight.inverse_transform(weight_predict)\n",
    "print(\"1번)\", \"키가\", input_height, \"cm 일 때 예측 몸무게는 약\", round(weight_predict[0][0]), \"kg\")\n",
    "\n",
    "# 수축기 입력 \n",
    "input_SBP = 140\n",
    "\n",
    "input_mm_SBP = mm_scaler_SBP.transform(np.array([input_SBP]).reshape(-1, 1))\n",
    "\n",
    "DBP_predict = model_SBP.predict(input_mm_SBP)\n",
    "DBP_predict = mm_scaler_SBP.inverse_transform(DBP_predict)\n",
    "print(\"2번)\", \"수축기가\", input_SBP, \"mmHG 일 때 예측 이완기 혈압은 약\", round(DBP_predict[0][0]), \"mmHG\")\n",
    "\n",
    "# 혈당 입력 \n",
    "input_Sugar = 90\n",
    "\n",
    "input_mm_Sugar = mm_scaler_Sugar.transform(np.array([input_Sugar]).reshape(-1, 1))\n",
    "DM_predict = model_Sugar.predict(input_mm_Sugar)\n",
    "print(\"3번)\", \"혈당수치가\", input_Sugar, \"일 때 당뇨에 걸릴 확률은\", round(DM_predict[0][0]*100), \"% 이다\")"
   ]
  },
  {
   "cell_type": "code",
   "execution_count": null,
   "metadata": {
    "id": "g7OA7pmF7ur2"
   },
   "outputs": [],
   "source": []
  }
 ],
 "metadata": {
  "colab": {
   "collapsed_sections": [],
   "name": "딥러닝 모델과 추론 과제 4.ipynb",
   "provenance": [],
   "toc_visible": true
  },
  "kernelspec": {
   "display_name": "Python 3",
   "language": "python",
   "name": "python3"
  },
  "language_info": {
   "codemirror_mode": {
    "name": "ipython",
    "version": 3
   },
   "file_extension": ".py",
   "mimetype": "text/x-python",
   "name": "python",
   "nbconvert_exporter": "python",
   "pygments_lexer": "ipython3",
   "version": "3.8.5"
  }
 },
 "nbformat": 4,
 "nbformat_minor": 1
}
